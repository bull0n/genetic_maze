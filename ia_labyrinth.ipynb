{
 "cells": [
  {
   "cell_type": "code",
   "execution_count": 1,
   "metadata": {},
   "outputs": [],
   "source": [
    "import numpy as np\n",
    "import random\n",
    "import matplotlib.pyplot as plt\n",
    "import time\n",
    "\n",
    "WALL_CELL_CONTENT = 1\n",
    "FREE_CELL_CONTENT = 0"
   ]
  },
  {
   "cell_type": "markdown",
   "metadata": {},
   "source": [
    "# IA - Labyrinth"
   ]
  },
  {
   "cell_type": "code",
   "execution_count": 2,
   "metadata": {},
   "outputs": [],
   "source": [
    "def generate_labyrinth(width, height, wall_ratio=0.3):\n",
    "    \"\"\" Randomly generates the labyrinth matrix, the values are:\n",
    "    0 if the cell is free\n",
    "    1 if there is a wall\n",
    "    :param width int: width of the matrix\n",
    "    :param height int: height of the matrix\n",
    "    :wall_ratio float: chance for a cell to be a wall\n",
    "    :return: tuple composed of:\n",
    "    <matrix>: numpy 2d array\n",
    "    <start_cell>: tuple of i, j indices for the start cell\n",
    "    <end_cell>: tuple of i, j indices for the end cell\n",
    "    \"\"\"\n",
    "    grid = np.random.rand(width, height)\n",
    "    grid[grid >= 1 - wall_ratio] = 1\n",
    "    grid[grid < 1 - wall_ratio] = 0\n",
    "    free_cell_top = [i for i in range(0, width) if grid[0][i] != 1]\n",
    "    start_idx = random.choice(free_cell_top)\n",
    "    start_cell = (0, start_idx)\n",
    "    free_cell_bottom = [i for i in range(0, width) if grid[-1][i] != 1]\n",
    "    end_idx = random.choice(free_cell_bottom)\n",
    "    end_cell = (height - 1, end_idx)\n",
    "    return grid, start_cell, end_cell"
   ]
  },
  {
   "cell_type": "code",
   "execution_count": 3,
   "metadata": {},
   "outputs": [],
   "source": [
    "def display_labyrinth(grid, start_cell, end_cell, solution=None):\n",
    "    \"\"\" Display the labyrinth matrix and possibly the solution with matplotlib.\n",
    "    Free cell will be in light gray.\n",
    "    Wall cells will be in dark gray.\n",
    "    Start and end cells will be in dark blue.\n",
    "    Path cells (start, end excluded) will be in light blue.\n",
    "    :param grid np.array: labyrinth matrix\n",
    "    :param start_cell: tuple of i, j indices for the start cell\n",
    "    :param end_cell: tuple of i, j indices for the end cell\n",
    "    :param solution: list of successive tuple i, j indices who forms the path\n",
    "    \"\"\"\n",
    "    grid = np.array(grid, copy=True)\n",
    "    START = 0\n",
    "    END = 0\n",
    "    PATH = 2\n",
    "    WALL_CELL = 16\n",
    "    FREE_CELL = 19\n",
    "    grid[grid == 0] = FREE_CELL\n",
    "    grid[grid == 1] = WALL_CELL\n",
    "    grid[start_cell] = START\n",
    "    grid[end_cell] = END\n",
    "    if solution:\n",
    "        solution = solution[1:-1]\n",
    "        for cell in solution:\n",
    "            grid[cell] = PATH\n",
    "    else:\n",
    "        print(\"No solution has been found\")\n",
    "    plt.matshow(grid, cmap=\"tab20c\")"
   ]
  },
  {
   "cell_type": "code",
   "execution_count": 4,
   "metadata": {},
   "outputs": [],
   "source": [
    "grid, start_cell, end_cell = generate_labyrinth(10, 10)"
   ]
  },
  {
   "cell_type": "code",
   "execution_count": 5,
   "metadata": {
    "slideshow": {
     "slide_type": "slide"
    }
   },
   "outputs": [
    {
     "name": "stdout",
     "output_type": "stream",
     "text": [
      "No solution has been found\n",
      "[[1. 0. 1. 0. 0. 1. 0. 1. 0. 0.]\n",
      " [1. 0. 0. 1. 1. 0. 1. 0. 0. 0.]\n",
      " [0. 0. 0. 1. 1. 1. 0. 0. 0. 0.]\n",
      " [0. 0. 0. 0. 1. 0. 1. 1. 0. 1.]\n",
      " [1. 0. 1. 0. 1. 0. 0. 0. 0. 1.]\n",
      " [1. 1. 0. 1. 0. 0. 0. 1. 0. 0.]\n",
      " [1. 1. 0. 0. 1. 0. 0. 0. 0. 0.]\n",
      " [0. 0. 0. 0. 0. 0. 0. 0. 1. 0.]\n",
      " [0. 1. 1. 0. 0. 0. 0. 0. 0. 0.]\n",
      " [0. 0. 1. 0. 0. 1. 0. 0. 1. 0.]]\n",
      "(0, 1)\n",
      "1.0\n"
     ]
    },
    {
     "data": {
      "image/png": "[encoded data removed]",
      "text/plain": [
       "<Figure size 288x288 with 1 Axes>"
      ]
     },
     "metadata": {
      "needs_background": "light"
     },
     "output_type": "display_data"
    }
   ],
   "source": [
    "display_labyrinth(grid, start_cell, end_cell)\n",
    "print(grid)\n",
    "print(start_cell)\n",
    "print(grid[(2,3)])"
   ]
  },
  {
   "cell_type": "markdown",
   "metadata": {},
   "source": [
    "# Imports\n",
    "        "
   ]
  },
  {
   "cell_type": "code",
   "execution_count": 6,
   "metadata": {},
   "outputs": [],
   "source": [
    "from deap import base\n",
    "from deap import creator\n",
    "from deap import tools \n",
    "from deap import algorithms\n",
    "import random\n",
    "from enum import Enum\n",
    "from collections import namedtuple"
   ]
  },
  {
   "cell_type": "markdown",
   "metadata": {},
   "source": [
    "# Data Structure"
   ]
  },
  {
   "cell_type": "code",
   "execution_count": 7,
   "metadata": {},
   "outputs": [],
   "source": [
    "CODE_LENGTH = 2 # EACH CODE HAS 2 bits, 4 possibilities (left, right, top, bottom)\n",
    "NB_DIRECTIONS = 20\n",
    "CHROMOSOM_LENGTH = CODE_LENGTH * NB_DIRECTIONS\n",
    "    \n",
    "class DirectionEnum(Enum):\n",
    "    TOP = 0\n",
    "    RIGHT = 1\n",
    "    BOTTOM = 2\n",
    "    LEFT = 3\n",
    "\n",
    "Direction = namedtuple(\"Direction\", [\"direction\", \"str\"])\n"
   ]
  },
  {
   "cell_type": "markdown",
   "metadata": {},
   "source": [
    "# Useful functions"
   ]
  },
  {
   "cell_type": "code",
   "execution_count": 8,
   "metadata": {},
   "outputs": [],
   "source": [
    "def direction_to_str(direction):\n",
    "    return direction.str\n",
    "\n",
    "def _parse_code(code):\n",
    "    int_value = int(code, 2)\n",
    "    return Direction(DirectionEnum(int_value), DirectionEnum(int_value).name[0])\n",
    "\n",
    "def _decode(individual):\n",
    "    chromosome_str = \"\".join([str(gene) for gene in individual])\n",
    "    directions = [_parse_code(chromosome_str[i: i + CODE_LENGTH]) for i in range(0, len(chromosome_str), CODE_LENGTH)]\n",
    "    return directions\n",
    "\n",
    "def display_chromosome(individual):\n",
    "    return \" \".join(direction_to_str(d) for d in _decode(individual))\n",
    "\n",
    "# todo : map\n",
    "def compute_chromosome(individual, labyrinth, start, end, debug = False):\n",
    "    directions = _decode(individual) \n",
    "    x, y = start[0], start[1]\n",
    "    result = [start]\n",
    "    \n",
    "    if debug:\n",
    "        print(x,y)\n",
    "    \n",
    "    for direction in directions:\n",
    "        if debug:\n",
    "            print(f'x,y : {(x,y)}')\n",
    "            print(direction.direction)\n",
    "        if direction.direction == DirectionEnum.TOP and x-1 > 0 and grid[(x-1,y)] == FREE_CELL_CONTENT:\n",
    "            x -= 1\n",
    "            result.append((x, y))\n",
    "        elif direction.direction == DirectionEnum.RIGHT and y+1 < grid.shape[1] and grid[(x,y+1)] == FREE_CELL_CONTENT:\n",
    "            y += 1\n",
    "            result.append((x, y))\n",
    "        elif direction.direction == DirectionEnum.BOTTOM and x+1 < grid.shape[0] and grid[(x+1,y)] == FREE_CELL_CONTENT:\n",
    "            x += 1\n",
    "            result.append((x,y))\n",
    "        elif direction.direction == DirectionEnum.LEFT and y-1 > 0 and grid[(x,y-1)] == FREE_CELL_CONTENT:\n",
    "            y -= 1\n",
    "            result.append((x,y))\n",
    "    \n",
    "    return result\n",
    "\n",
    "def difference_x(p1, p2):\n",
    "    return abs(p1[0]-p2[0])\n",
    "\n",
    "def difference_y(p1, p2):\n",
    "    return abs(p1[1]-p2[1])\n",
    "\n",
    "def manhattan(p1, p2):\n",
    "    return difference_x(p1, p2)+difference_y(p1, p2)"
   ]
  },
  {
   "cell_type": "markdown",
   "metadata": {},
   "source": [
    "# Deap"
   ]
  },
  {
   "cell_type": "code",
   "execution_count": 9,
   "metadata": {},
   "outputs": [],
   "source": [
    "toolbox = base.Toolbox()"
   ]
  },
  {
   "cell_type": "code",
   "execution_count": 10,
   "metadata": {},
   "outputs": [],
   "source": [
    "def fitness(individual, grid, start_cell, end_cell):\n",
    "    path = compute_chromosome(individual, grid, start_cell, end_cell)\n",
    "    return (manhattan(end_cell, path[-1]) + (20 - len(path)),)\n",
    "\n",
    "\n",
    "toolbox.register(\"fitness\", fitness)\n",
    "creator.create(\"FitnessMin\", base.Fitness, weights=(-1.0,))\n",
    "creator.create(\"Individual\", list, fitness=creator.FitnessMin) \n",
    "\n",
    "toolbox.register(\"mate\", tools.cxOnePoint)\n",
    "toolbox.register(\"mutate\", tools.mutFlipBit, indpb=0.1)\n",
    "toolbox.register(\"select\", tools.selRoulette)\n",
    "\n",
    "toolbox.register(\"init_gene\", random.randint, 0, 1)\n",
    "toolbox.register(\"init_individual\", tools.initRepeat, creator.Individual, toolbox.init_gene, CHROMOSOM_LENGTH)\n",
    "toolbox.register(\"init_population\", tools.initRepeat, list, toolbox.init_individual)"
   ]
  },
  {
   "cell_type": "markdown",
   "metadata": {},
   "source": [
    "## Solve"
   ]
  },
  {
   "cell_type": "code",
   "execution_count": 11,
   "metadata": {},
   "outputs": [],
   "source": [
    "def evaluate_population(population, grid, start_cell, end_cell):\n",
    "    fitnesses = [toolbox.fitness(ind, grid, start_cell, end_cell) for ind in population]\n",
    "    for ind, fit in zip(population, fitnesses):\n",
    "        ind.fitness.values = fit\n",
    "\n",
    "# TODO MAP FILTER POUR OPTI\n",
    "def find_winners(population, grid, start_cell, end_cell):\n",
    "    winners = []\n",
    "    \n",
    "    for individual in population:\n",
    "        path = compute_chromosome(individual, grid, start_cell, end_cell)\n",
    "        if path[-1] == end_cell:\n",
    "            winners.append(individual)\n",
    "    \n",
    "    return winners\n",
    "\n",
    "def solve_labyrinth(grid, start_cell, end_cell, max_time_s):\n",
    "    N_POPULATION = 50\n",
    "    CROSSOVER_PROBA = 0.7\n",
    "    MUTATE_PROBA = 0.1\n",
    "    \n",
    "    start_time = inter_time = time.time()\n",
    "    population = toolbox.init_population(n = N_POPULATION)\n",
    "\n",
    "    evaluate_population(population, grid, start_cell, end_cell)\n",
    "    solution = None\n",
    "\n",
    "    number_of_iterations = 0\n",
    "    while len(find_winners(population, grid, start_cell, end_cell)) == 0 and inter_time - start_time < max_time_s:\n",
    "        children = toolbox.select(population, len(population))\n",
    "\n",
    "        children = list(map(toolbox.clone, children))\n",
    "\n",
    "        # Apply crossover and mutation on the offspring\n",
    "        for child1, child2 in zip(children[::2], children[1::2]):\n",
    "            if random.random() < CROSSOVER_PROBA:\n",
    "                toolbox.mate(child1, child2)            \n",
    "\n",
    "        for mutant in children:\n",
    "            # add a new component\n",
    "            if random.random() < MUTATE_PROBA:\n",
    "                toolbox.mutate(mutant)\n",
    "\n",
    "        evaluate_population(children, grid, start_cell, end_cell)\n",
    "        population = children\n",
    "\n",
    "        # Search for the solution\n",
    "        fitnesses = [ind.fitness.values[0] for ind in population]\n",
    "        min_fit = min(fitnesses)\n",
    "        best = population[fitnesses.index(min_fit)]\n",
    "        if not solution or best.fitness.values[0] < solution.fitness.values[0]:\n",
    "            solution = best\n",
    "\n",
    "        inter_time = time.time()\n",
    "        \n",
    "    path = compute_chromosome(population[0], grid, start_cell, end_cell)\n",
    "    display_labyrinth(grid, start_cell, end_cell, path)\n",
    "    \n",
    "    return find_winners(population, grid, start_cell, end_cell)\n"
   ]
  },
  {
   "cell_type": "code",
   "execution_count": 12,
   "metadata": {
    "scrolled": false
   },
   "outputs": [
    {
     "name": "stdout",
     "output_type": "stream",
     "text": [
      "L T L L R L R B T T T T T R L B T L T R\n",
      "0 1\n",
      "x,y : (0, 1)\n",
      "DirectionEnum.LEFT\n",
      "x,y : (0, 1)\n",
      "DirectionEnum.TOP\n",
      "x,y : (0, 1)\n",
      "DirectionEnum.LEFT\n",
      "x,y : (0, 1)\n",
      "DirectionEnum.LEFT\n",
      "x,y : (0, 1)\n",
      "DirectionEnum.RIGHT\n",
      "x,y : (0, 1)\n",
      "DirectionEnum.LEFT\n",
      "x,y : (0, 1)\n",
      "DirectionEnum.RIGHT\n",
      "x,y : (0, 1)\n",
      "DirectionEnum.BOTTOM\n",
      "x,y : (1, 1)\n",
      "DirectionEnum.TOP\n",
      "x,y : (1, 1)\n",
      "DirectionEnum.TOP\n",
      "x,y : (1, 1)\n",
      "DirectionEnum.TOP\n",
      "x,y : (1, 1)\n",
      "DirectionEnum.TOP\n",
      "x,y : (1, 1)\n",
      "DirectionEnum.TOP\n",
      "x,y : (1, 1)\n",
      "DirectionEnum.RIGHT\n",
      "x,y : (1, 2)\n",
      "DirectionEnum.LEFT\n",
      "x,y : (1, 1)\n",
      "DirectionEnum.BOTTOM\n",
      "x,y : (2, 1)\n",
      "DirectionEnum.TOP\n",
      "x,y : (1, 1)\n",
      "DirectionEnum.LEFT\n",
      "x,y : (1, 1)\n",
      "DirectionEnum.TOP\n",
      "x,y : (1, 1)\n",
      "DirectionEnum.RIGHT\n",
      "[(0, 1), (1, 1), (1, 2), (1, 1), (2, 1), (1, 1), (1, 2)]\n",
      "None\n",
      "No solution has been found\n"
     ]
    },
    {
     "data": {
      "image/png": "[encoded data removed]",
      "text/plain": [
       "<Figure size 288x288 with 1 Axes>"
      ]
     },
     "metadata": {
      "needs_background": "light"
     },
     "output_type": "display_data"
    },
    {
     "data": {
      "image/png": "[encoded data removed]",
      "text/plain": [
       "<Figure size 288x288 with 1 Axes>"
      ]
     },
     "metadata": {
      "needs_background": "light"
     },
     "output_type": "display_data"
    }
   ],
   "source": [
    "winners = solve_labyrinth(grid, start_cell, end_cell, 5)\n",
    "\n",
    "solution = None\n",
    "\n",
    "if len(winners):\n",
    "    solution = compute_chromosome(winners[0])\n",
    "    \n",
    "display_labyrinth(grid, start_cell, end_cell, solution)"
   ]
  },
  {
   "cell_type": "code",
   "execution_count": null,
   "metadata": {},
   "outputs": [],
   "source": []
  }
 ],
 "metadata": {
  "kernelspec": {
   "display_name": "Python 3",
   "language": "python",
   "name": "python3"
  },
  "language_info": {
   "codemirror_mode": {
    "name": "ipython",
    "version": 3
   },
   "file_extension": ".py",
   "mimetype": "text/x-python",
   "name": "python",
   "nbconvert_exporter": "python",
   "pygments_lexer": "ipython3",
   "version": "3.6.7"
  }
 },
 "nbformat": 4,
 "nbformat_minor": 2
}
