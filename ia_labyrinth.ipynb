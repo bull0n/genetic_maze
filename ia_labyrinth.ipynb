{
 "cells": [
  {
   "cell_type": "code",
   "execution_count": 1,
   "metadata": {},
   "outputs": [],
   "source": [
    "import numpy as np\n",
    "import random\n",
    "import matplotlib.pyplot as plt\n",
    "import time\n",
    "\n",
    "WALL_CELL_CONTENT = 1\n",
    "FREE_CELL_CONTENT = 0\n",
    "SIZE_LABYRINTH = 40"
   ]
  },
  {
   "cell_type": "markdown",
   "metadata": {},
   "source": [
    "# IA - Labyrinth"
   ]
  },
  {
   "cell_type": "code",
   "execution_count": 2,
   "metadata": {},
   "outputs": [],
   "source": [
    "def generate_labyrinth(width, height, wall_ratio=0.3):\n",
    "    \"\"\" Randomly generates the labyrinth matrix, the values are:\n",
    "    0 if the cell is free\n",
    "    1 if there is a wall\n",
    "    :param width int: width of the matrix\n",
    "    :param height int: height of the matrix\n",
    "    :wall_ratio float: chance for a cell to be a wall\n",
    "    :return: tuple composed of:\n",
    "    <matrix>: numpy 2d array\n",
    "    <start_cell>: tuple of i, j indices for the start cell\n",
    "    <end_cell>: tuple of i, j indices for the end cell\n",
    "    \"\"\"\n",
    "    grid = np.random.rand(width, height)\n",
    "    grid[grid >= 1 - wall_ratio] = 1\n",
    "    grid[grid < 1 - wall_ratio] = 0\n",
    "    free_cell_top = [i for i in range(0, width) if grid[0][i] != 1]\n",
    "    start_idx = random.choice(free_cell_top)\n",
    "    start_cell = (0, start_idx)\n",
    "    free_cell_bottom = [i for i in range(0, width) if grid[-1][i] != 1]\n",
    "    end_idx = random.choice(free_cell_bottom)\n",
    "    end_cell = (height - 1, end_idx)\n",
    "    return grid, start_cell, end_cell\n",
    "\n",
    "def load_grid(filename):\n",
    "    grid = np.load(filename)\n",
    "    start_cell = (0,0)\n",
    "    h = grid.shape[0]\n",
    "    w = grid.shape[1]\n",
    "    end_cell = (h - 1, w - 1)\n",
    "    \n",
    "    return grid, start_cell, end_cell"
   ]
  },
  {
   "cell_type": "code",
   "execution_count": 3,
   "metadata": {},
   "outputs": [],
   "source": [
    "def display_labyrinth(grid, start_cell, end_cell, solution=None):\n",
    "    \"\"\" Display the labyrinth matrix and possibly the solution with matplotlib.\n",
    "    Free cell will be in light gray.\n",
    "    Wall cells will be in dark gray.\n",
    "    Start and end cells will be in dark blue.\n",
    "    Path cells (start, end excluded) will be in light blue.\n",
    "    :param grid np.array: labyrinth matrix\n",
    "    :param start_cell: tuple of i, j indices for the start cell\n",
    "    :param end_cell: tuple of i, j indices for the end cell\n",
    "    :param solution: list of successive tuple i, j indices who forms the path\n",
    "    \"\"\"\n",
    "    grid = np.array(grid, copy=True)\n",
    "    START = 0\n",
    "    END = 0\n",
    "    PATH = 2\n",
    "    WALL_CELL = 16\n",
    "    FREE_CELL = 19\n",
    "    grid[grid == 0] = FREE_CELL\n",
    "    grid[grid == 1] = WALL_CELL\n",
    "    grid[start_cell] = START\n",
    "    grid[end_cell] = END\n",
    "    if solution:\n",
    "        solution = solution[1:-1]\n",
    "        for cell in solution:\n",
    "            grid[cell] = PATH\n",
    "    else:\n",
    "        print(\"No solution has been found\")\n",
    "    plt.matshow(grid, cmap=\"tab20c\")"
   ]
  },
  {
   "cell_type": "code",
   "execution_count": 4,
   "metadata": {},
   "outputs": [],
   "source": [
    "# grid, start_cell, end_cell = generate_labyrinth(SIZE_LABYRINTH, SIZE_LABYRINTH)\n",
    "grid, start_cell, end_cell = load_grid(\"grids/grid40.npy\")"
   ]
  },
  {
   "cell_type": "code",
   "execution_count": 5,
   "metadata": {
    "slideshow": {
     "slide_type": "slide"
    }
   },
   "outputs": [
    {
     "name": "stdout",
     "output_type": "stream",
     "text": [
      "No solution has been found\n"
     ]
    },
    {
     "data": {
      "image/png": "[encoded data removed]",
      "text/plain": [
       "<Figure size 288x288 with 1 Axes>"
      ]
     },
     "metadata": {
      "needs_background": "light"
     },
     "output_type": "display_data"
    }
   ],
   "source": [
    "display_labyrinth(grid, start_cell, end_cell)"
   ]
  },
  {
   "cell_type": "markdown",
   "metadata": {},
   "source": [
    "# Imports\n",
    "        "
   ]
  },
  {
   "cell_type": "code",
   "execution_count": 6,
   "metadata": {},
   "outputs": [],
   "source": [
    "from deap import base\n",
    "from deap import creator\n",
    "from deap import tools \n",
    "from deap import algorithms\n",
    "import random\n",
    "from enum import Enum\n",
    "from collections import namedtuple"
   ]
  },
  {
   "cell_type": "markdown",
   "metadata": {},
   "source": [
    "# Data Structure"
   ]
  },
  {
   "cell_type": "code",
   "execution_count": 7,
   "metadata": {},
   "outputs": [],
   "source": [
    "NB_DIRECTIONS = grid.shape[0] * grid.shape[1]\n",
    "CHROMOSOM_LENGTH = NB_DIRECTIONS\n",
    "    \n",
    "class Direction(Enum):\n",
    "    \"\"\"\n",
    "    enum for every direction possible\n",
    "    \"\"\"\n",
    "    TOP = 0\n",
    "    RIGHT = 1\n",
    "    BOTTOM = 2\n",
    "    LEFT = 3\n"
   ]
  },
  {
   "cell_type": "markdown",
   "metadata": {},
   "source": [
    "# Structure and algorithm functions"
   ]
  },
  {
   "cell_type": "code",
   "execution_count": 8,
   "metadata": {},
   "outputs": [],
   "source": [
    "def _parse_code(code):\n",
    "    \"\"\"\n",
    "    transform an int into a direction\n",
    "    \"\"\"\n",
    "    return Direction(int(code))\n",
    "\n",
    "\n",
    "def _decode(individual):\n",
    "    \"\"\"\n",
    "    transform the int of the chromosom to a list of direction\n",
    "    \"\"\"\n",
    "    return list(map(lambda val: Direction(val), individual))\n",
    "\n",
    "\n",
    "def individual_to_str(individual):\n",
    "    \"\"\"\n",
    "    transform a an individual in a string\n",
    "    \"\"\"\n",
    "    return \" \".join(d.name[0] for d in _decode(individual))\n",
    "\n",
    "\n",
    "def compute_chromosome(individual, labyrinth, start, end):\n",
    "    \"\"\"\n",
    "    transform an individual in a list of coordinates (path)\n",
    "    \"\"\"\n",
    "    \n",
    "    directions = _decode(individual) \n",
    "    x, y = start[0], start[1]\n",
    "    result = [(x,y)]\n",
    "    \n",
    "    for direction in directions:\n",
    "        # add the next coordinates in the path\n",
    "        new_x, new_y = get_new_xy_with_direction(x, y, direction)\n",
    "        \n",
    "        new_coordinates = (new_x, new_y)\n",
    "        \n",
    "        # if going out of the grid or against a wall, do not move\n",
    "        if new_x >= 0 and new_y >= 0 \\\n",
    "            and new_x < grid.shape[0] and new_y < grid.shape[1] \\\n",
    "            and grid[new_coordinates] == FREE_CELL_CONTENT:\n",
    "            result.append(new_coordinates)\n",
    "            x = new_x\n",
    "            y = new_y\n",
    "    \n",
    "    return result\n",
    "\n",
    "\n",
    "def fix_chromosom(individual, grid, start_cell, end_cell):\n",
    "    \"\"\"\n",
    "    fix a chromosom by finding place where he went already or go against a wall\n",
    "    \"\"\"\n",
    "    PROB_RANDOM_PATH = 0.3\n",
    "    \n",
    "    directions = _decode(individual) \n",
    "    x, y = start_cell[0], start_cell[1]\n",
    "    path = [(x,y)]\n",
    "    \n",
    "    for i, direction in enumerate(directions):\n",
    "        # add the next coordinates in the path\n",
    "        new_x, new_y = get_new_xy_with_direction(x, y, direction)\n",
    "        \n",
    "        new_coordinates = (new_x, new_y)\n",
    "\n",
    "        if new_x >= 0 and new_y >= 0 \\\n",
    "            and new_x < grid.shape[0] and new_y < grid.shape[1] \\\n",
    "            and grid[new_coordinates] == FREE_CELL_CONTENT \\\n",
    "            and not new_coordinates in path:\n",
    "            \n",
    "            path.append(new_coordinates)\n",
    "            x, y = new_x, new_y\n",
    "        else :\n",
    "            # find a new direction random or closest to the target\n",
    "            if random.random() < PROB_RANDOM_PATH:\n",
    "                individual[i] = random.randint(0, len(Direction) - 1)\n",
    "            else:\n",
    "                individual[i] = find_better_path(path[-1], end_cell) # always go the same places, not really good\n",
    "            \n",
    "            \n",
    "            new_x, new_y = get_new_xy_with_direction(x, y, Direction(individual[i]))\n",
    "            new_coordinates = (new_x, new_y)\n",
    "            \n",
    "            # Check the new direction is doable\n",
    "            if new_x >= 0 and new_y >= 0 \\\n",
    "                and new_x < grid.shape[0] and new_y < grid.shape[1] \\\n",
    "                and grid[new_coordinates] == FREE_CELL_CONTENT \\\n",
    "                and not new_coordinates in path:\n",
    "                \n",
    "                path.append(new_coordinates)\n",
    "                x, y  = new_x, new_y\n",
    "                \n",
    "        # if at the end cut the chromosom\n",
    "        if (x,y) == end_cell:\n",
    "            individual = individual[0:i]\n",
    "            return\n",
    "\n",
    "def change_useless_move(individual):\n",
    "    \"\"\"\n",
    "    change useless move\n",
    "    was a first optimisation, not used anymore but kept for history\n",
    "    \"\"\"\n",
    "    directions = _decode(individual)\n",
    "    \n",
    "    for i, d in enumerate(directions):\n",
    "        if i+1 < len(directions) and ( \\\n",
    "            d == Direction.TOP and directions[i+1] == Direction.BOTTOM \\\n",
    "            or d == Direction.BOTTOM and directions[i+1] == Direction.TOP \\\n",
    "            or d == Direction.LEFT and directions[i+1] == Direction.RIGHT \\\n",
    "            or d == Direction.RIGHT and directions[i+1] == Direction.LEFT):\n",
    "            \n",
    "            individual[i] = random.randint(0, len(Direction)-1)\n",
    "            \n",
    "            \n",
    "\n",
    "def get_new_xy_with_direction(x, y, direction):\n",
    "    \"\"\"\n",
    "    get the new x and y from a direction\n",
    "    \"\"\"\n",
    "    new_x = x\n",
    "    new_y = y\n",
    "    \n",
    "    if direction == Direction.TOP:\n",
    "        new_x -= 1\n",
    "    elif direction == Direction.RIGHT:\n",
    "        new_y += 1\n",
    "    elif direction == Direction.BOTTOM:\n",
    "        new_x += 1\n",
    "    elif direction == Direction.LEFT:\n",
    "        new_y -= 1\n",
    "        \n",
    "    return new_x, new_y\n",
    "\n",
    "\n",
    "def find_better_path(position, target):\n",
    "    \"\"\"\n",
    "    Try to get the best direction for a point\n",
    "    \"\"\"\n",
    "    if difference_x(position, target) > difference_y(position, target):\n",
    "        if position[0] < target[0]:\n",
    "            return Direction.BOTTOM\n",
    "        else :\n",
    "            return Direction.TOP\n",
    "    else:\n",
    "        if position[1] < target[1]:\n",
    "            return Direction.RIGHT\n",
    "        else:\n",
    "            return Direction.LEFT\n",
    "\n",
    "        \n",
    "def difference_x(p1, p2):\n",
    "    \"\"\"\n",
    "    get the difference of the x of the vector\n",
    "    \"\"\"\n",
    "    return abs(p1[0]-p2[0])\n",
    "\n",
    "\n",
    "def difference_y(p1, p2):\n",
    "    \"\"\"\n",
    "    get the difference of the y of the vector\n",
    "    \"\"\"\n",
    "    return abs(p1[1]-p2[1])\n",
    "\n",
    "\n",
    "def manhattan(p1, p2):\n",
    "    \"\"\"\n",
    "    manhattan distance between two points\n",
    "    \"\"\"\n",
    "    return difference_x(p1, p2)+difference_y(p1, p2)"
   ]
  },
  {
   "cell_type": "markdown",
   "metadata": {},
   "source": [
    "# Fitness related function"
   ]
  },
  {
   "cell_type": "code",
   "execution_count": 9,
   "metadata": {},
   "outputs": [],
   "source": [
    "def fitness(individual, grid, start_cell, end_cell, chromosome_length):\n",
    "    \"\"\"\n",
    "    fitness function, will calculate a fitness with the manhattan distance of the point, the length of the path and a malus if it doesn't reach the end\n",
    "    \"\"\"\n",
    "    FACTOR = 20\n",
    "    \n",
    "    path = compute_chromosome(individual, grid, start_cell, end_cell)\n",
    "    \n",
    "    return (manhattan(end_cell, path[-1])*FACTOR + len(individual),)\n",
    "\n",
    "\n",
    "def evaluate_population(population, grid, start_cell, end_cell):\n",
    "    \"\"\"\n",
    "    find the fitness of every individual\n",
    "    \"\"\"\n",
    "    fitnesses = [toolbox.fitness(ind, grid, start_cell, end_cell, CHROMOSOM_LENGTH) for ind in population]\n",
    "    for ind, fit in zip(population, fitnesses):\n",
    "        ind.fitness.values = fit\n"
   ]
  },
  {
   "cell_type": "markdown",
   "metadata": {},
   "source": [
    "# Deap"
   ]
  },
  {
   "cell_type": "code",
   "execution_count": 10,
   "metadata": {},
   "outputs": [],
   "source": [
    "toolbox = base.Toolbox()"
   ]
  },
  {
   "cell_type": "code",
   "execution_count": 11,
   "metadata": {},
   "outputs": [],
   "source": [
    "toolbox.register(\"fitness\", fitness)\n",
    "creator.create(\"FitnessMin\", base.Fitness, weights=(-1.0,))\n",
    "creator.create(\"Individual\", list, fitness=creator.FitnessMin) \n",
    "\n",
    "toolbox.register(\"mate\", tools.cxTwoPoint)\n",
    "toolbox.register(\"mutate\", tools.mutUniformInt, low=0, up=3, indpb=0.3)\n",
    "toolbox.register(\"select\", tools.selRoulette)\n",
    "\n",
    "toolbox.register(\"init_gene\", random.randint, 0, 3)\n",
    "toolbox.register(\"init_individual\", tools.initRepeat, creator.Individual, toolbox.init_gene, CHROMOSOM_LENGTH)\n",
    "toolbox.register(\"init_population\", tools.initRepeat, list, toolbox.init_individual)"
   ]
  },
  {
   "cell_type": "markdown",
   "metadata": {},
   "source": [
    "## Solve"
   ]
  },
  {
   "cell_type": "code",
   "execution_count": 12,
   "metadata": {},
   "outputs": [],
   "source": [
    "def find_winners(population, grid, start_cell, end_cell):\n",
    "    \"\"\"\n",
    "    find all the winners of a population\n",
    "    not useful\n",
    "    \"\"\"\n",
    "    winners = []\n",
    "    \n",
    "    for individual in population:\n",
    "        path = compute_chromosome(individual, grid, start_cell, end_cell)\n",
    "        if path[-1] == end_cell:\n",
    "            winners.append(individual)\n",
    "    \n",
    "    return winners\n",
    "\n",
    "\n",
    "def find_best(population):\n",
    "    \"\"\"\n",
    "    find the best individual in a population,\n",
    "    individual need a fitness attribute\n",
    "    \"\"\"\n",
    "    fitnesses = [ind.fitness.values[0] for ind in population]\n",
    "    min_fit = min(fitnesses)\n",
    "    \n",
    "    return population[fitnesses.index(min_fit)]        \n",
    "            \n",
    "def solve_labyrinth(grid, start_cell, end_cell, max_time_s):\n",
    "    \"\"\"\n",
    "    function of the genetic algorithm to find the solution\n",
    "    \"\"\"\n",
    "    N_POPULATION = 50\n",
    "    CROSSOVER_PROBA = 0.1\n",
    "    MUTATE_PROBA = 0.6\n",
    "    \n",
    "    start_time = inter_time = time.time()\n",
    "    population = toolbox.init_population(n = N_POPULATION)\n",
    "\n",
    "    evaluate_population(population, grid, start_cell, end_cell)\n",
    "    solution = None\n",
    "    \n",
    "    # do not need a stop condition other than time because we always keep the best\n",
    "    while inter_time - start_time < max_time_s:\n",
    "        # selection\n",
    "        children = toolbox.select(population, len(population))\n",
    "        children = list(map(toolbox.clone, children))\n",
    "        \n",
    "        # spawning new child\n",
    "        for i in range(0, len(population) - len(children)):\n",
    "            children.append(toolbox.init_individual())\n",
    "        \n",
    "        # Apply crossover and mutation on the offspring\n",
    "        for child1, child2 in zip(children[::2], children[1::2]):\n",
    "            if random.random() < CROSSOVER_PROBA:\n",
    "                toolbox.mate(child1, child2) \n",
    "        \n",
    "        # mutation\n",
    "        for mutant in children:\n",
    "            # add a new component\n",
    "            if random.random() < MUTATE_PROBA:\n",
    "                toolbox.mutate(mutant)\n",
    "                \n",
    "        # fixing chromosome\n",
    "        for child in children:\n",
    "            fix_chromosom(child, grid, start_cell, end_cell)\n",
    "\n",
    "        evaluate_population(children, grid, start_cell, end_cell)\n",
    "        population = children\n",
    "\n",
    "        # Search for the solution\n",
    "        best = find_best(children)\n",
    "        \n",
    "        if not solution or best.fitness.values[0] < solution.fitness.values[0]:\n",
    "            solution = best\n",
    "\n",
    "        inter_time = time.time()\n",
    "    \n",
    "    return compute_chromosome(solution, grid, start_cell, end_cell)\n"
   ]
  },
  {
   "cell_type": "code",
   "execution_count": 13,
   "metadata": {
    "scrolled": true
   },
   "outputs": [
    {
     "data": {
      "image/png": "[encoded data removed]",
      "text/plain": [
       "<Figure size 288x288 with 1 Axes>"
      ]
     },
     "metadata": {
      "needs_background": "light"
     },
     "output_type": "display_data"
    }
   ],
   "source": [
    "solution = solve_labyrinth(grid, start_cell, end_cell, 60)    \n",
    "display_labyrinth(grid, start_cell, end_cell, solution)\n"
   ]
  },
  {
   "cell_type": "markdown",
   "metadata": {},
   "source": [
    "# Conclusion\n",
    "\n",
    "## Fitness\n",
    "\n",
    "La fonction de fitness prend en compte la longueur du chemin parcouru et la distance de manhattan du dernier point du chemin et de la cible.\n",
    "\n",
    "La distance de manhattan est considéré comme plus important car la taille du chemin peut varier si l'individu bloque dans un mur.\n",
    "\n",
    "## Hyperparamètres\n",
    "\n",
    "### Mutation\n",
    "\n",
    "probabilité de chaque élément d'un chromosome de muté : 0.3\n",
    "\n",
    "porbabilité d'un individu de muter : 0.8\n",
    "\n",
    "J'ai choisi une probabilité de mutation très élevé car mes chemins sont tous très mauvais au début et ils ont besoin de de beaucoup changer au fil du temps. De plus je garde toujours le meilleur chemin sans transformation. Ce qui me permet de ne pas muter le meilleur\n",
    "\n",
    "### Sélection\n",
    "\n",
    "J'ai choisi la roulette pour supprimer des éléments au hasard au cas ou un mauvais se transforme en quelque chose de très bien avec une mutation ou un crossover\n",
    "\n",
    "### Crossover\n",
    "\n",
    "probabilité : 0.1\n",
    "\n",
    "Il n'y a pas vraiment d'intérêt à faire un crossover entre 2 chemins. Mais j'ai gardé une faible probabilité au cas ou ça donnera un bon résultat\n",
    "\n",
    "### Population\n",
    "\n",
    "Taille : 50\n",
    "\n",
    "Car avec la méthode d'optimisation les individues se dirige souvent dans la bonne direction et limitant le nombre de possibilité. Je vais donc essayé d'avoir plus mutations et de crossover par individu dans le temps donné plutôt quand\n",
    "\n",
    "## Optimisations\n",
    "\n",
    "J'ai essayé d'optimisé les chemins en changeant la direction quand ils vont dans un mur ou un endroit où ils sont déjà allé.\n",
    "\n",
    "Je vais choisir une direction aléatoire ou la plus proche de la cible. Ce choix est fait grâce à de l'aléatoire avec une probabilité de 30% d'être aléatoire. Cette probabilité a été choisie en faisant plusieurs essais.\n",
    "\n",
    "\n",
    "# Warning\n",
    "\n",
    "Change LABYRINTH_SIZE if grid isn't 40x40"
   ]
  }
 ],
 "metadata": {
  "kernelspec": {
   "display_name": "Python 3",
   "language": "python",
   "name": "python3"
  },
  "language_info": {
   "codemirror_mode": {
    "name": "ipython",
    "version": 3
   },
   "file_extension": ".py",
   "mimetype": "text/x-python",
   "name": "python",
   "nbconvert_exporter": "python",
   "pygments_lexer": "ipython3",
   "version": "3.6.7"
  }
 },
 "nbformat": 4,
 "nbformat_minor": 2
}
