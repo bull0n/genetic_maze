{
 "cells": [
  {
   "cell_type": "code",
   "execution_count": 1,
   "metadata": {},
   "outputs": [],
   "source": [
    "import numpy as np\n",
    "import random\n",
    "import matplotlib.pyplot as plt\n",
    "import time\n",
    "\n",
    "WALL_CELL_CONTENT = 1\n",
    "FREE_CELL_CONTENT = 0\n",
    "SIZE_LABYRINTH = 40"
   ]
  },
  {
   "cell_type": "markdown",
   "metadata": {},
   "source": [
    "# IA - Labyrinth"
   ]
  },
  {
   "cell_type": "code",
   "execution_count": 2,
   "metadata": {},
   "outputs": [],
   "source": [
    "def generate_labyrinth(width, height, wall_ratio=0.3):\n",
    "    \"\"\" Randomly generates the labyrinth matrix, the values are:\n",
    "    0 if the cell is free\n",
    "    1 if there is a wall\n",
    "    :param width int: width of the matrix\n",
    "    :param height int: height of the matrix\n",
    "    :wall_ratio float: chance for a cell to be a wall\n",
    "    :return: tuple composed of:\n",
    "    <matrix>: numpy 2d array\n",
    "    <start_cell>: tuple of i, j indices for the start cell\n",
    "    <end_cell>: tuple of i, j indices for the end cell\n",
    "    \"\"\"\n",
    "    grid = np.random.rand(width, height)\n",
    "    grid[grid >= 1 - wall_ratio] = 1\n",
    "    grid[grid < 1 - wall_ratio] = 0\n",
    "    free_cell_top = [i for i in range(0, width) if grid[0][i] != 1]\n",
    "    start_idx = random.choice(free_cell_top)\n",
    "    start_cell = (0, start_idx)\n",
    "    free_cell_bottom = [i for i in range(0, width) if grid[-1][i] != 1]\n",
    "    end_idx = random.choice(free_cell_bottom)\n",
    "    end_cell = (height - 1, end_idx)\n",
    "    return grid, start_cell, end_cell\n",
    "\n",
    "def load_grid(filename):\n",
    "    grid = np.load(filename)\n",
    "    start_cell = (0,0)\n",
    "    h = grid.shape[0]\n",
    "    w = grid.shape[1]\n",
    "    end_cell = (h - 1, w - 1)\n",
    "    \n",
    "    return grid, start_cell, end_cell"
   ]
  },
  {
   "cell_type": "code",
   "execution_count": 3,
   "metadata": {},
   "outputs": [],
   "source": [
    "def display_labyrinth(grid, start_cell, end_cell, solution=None):\n",
    "    \"\"\" Display the labyrinth matrix and possibly the solution with matplotlib.\n",
    "    Free cell will be in light gray.\n",
    "    Wall cells will be in dark gray.\n",
    "    Start and end cells will be in dark blue.\n",
    "    Path cells (start, end excluded) will be in light blue.\n",
    "    :param grid np.array: labyrinth matrix\n",
    "    :param start_cell: tuple of i, j indices for the start cell\n",
    "    :param end_cell: tuple of i, j indices for the end cell\n",
    "    :param solution: list of successive tuple i, j indices who forms the path\n",
    "    \"\"\"\n",
    "    grid = np.array(grid, copy=True)\n",
    "    START = 0\n",
    "    END = 0\n",
    "    PATH = 2\n",
    "    WALL_CELL = 16\n",
    "    FREE_CELL = 19\n",
    "    grid[grid == 0] = FREE_CELL\n",
    "    grid[grid == 1] = WALL_CELL\n",
    "    grid[start_cell] = START\n",
    "    grid[end_cell] = END\n",
    "    if solution:\n",
    "        solution = solution[1:-1]\n",
    "        for cell in solution:\n",
    "            grid[cell] = PATH\n",
    "    else:\n",
    "        print(\"No solution has been found\")\n",
    "    plt.matshow(grid, cmap=\"tab20c\")"
   ]
  },
  {
   "cell_type": "code",
   "execution_count": 4,
   "metadata": {},
   "outputs": [],
   "source": [
    "# grid, start_cell, end_cell = generate_labyrinth(SIZE_LABYRINTH, SIZE_LABYRINTH)\n",
    "grid, start_cell, end_cell = load_grid(\"grids/grid40.npy\")"
   ]
  },
  {
   "cell_type": "code",
   "execution_count": 5,
   "metadata": {
    "slideshow": {
     "slide_type": "slide"
    }
   },
   "outputs": [
    {
     "name": "stdout",
     "output_type": "stream",
     "text": [
      "No solution has been found\n"
     ]
    },
    {
     "data": {
      "image/png": "[encoded data removed]",
      "text/plain": [
       "<Figure size 288x288 with 1 Axes>"
      ]
     },
     "metadata": {
      "needs_background": "light"
     },
     "output_type": "display_data"
    }
   ],
   "source": [
    "display_labyrinth(grid, start_cell, end_cell)"
   ]
  },
  {
   "cell_type": "markdown",
   "metadata": {},
   "source": [
    "# Imports\n",
    "        "
   ]
  },
  {
   "cell_type": "code",
   "execution_count": 6,
   "metadata": {},
   "outputs": [],
   "source": [
    "from deap import base\n",
    "from deap import creator\n",
    "from deap import tools \n",
    "from deap import algorithms\n",
    "import random\n",
    "from enum import Enum\n",
    "from collections import namedtuple"
   ]
  },
  {
   "cell_type": "markdown",
   "metadata": {},
   "source": [
    "# Data Structure"
   ]
  },
  {
   "cell_type": "code",
   "execution_count": 7,
   "metadata": {},
   "outputs": [],
   "source": [
    "NB_DIRECTIONS = grid.shape[0] * grid.shape[1]\n",
    "CHROMOSOM_LENGTH = NB_DIRECTIONS\n",
    "    \n",
    "class Direction(Enum):\n",
    "    TOP = 0\n",
    "    RIGHT = 1\n",
    "    BOTTOM = 2\n",
    "    LEFT = 3\n"
   ]
  },
  {
   "cell_type": "markdown",
   "metadata": {},
   "source": [
    "# Useful functions"
   ]
  },
  {
   "cell_type": "code",
   "execution_count": 8,
   "metadata": {},
   "outputs": [],
   "source": [
    "def _parse_code(code):\n",
    "    return Direction(int(code))\n",
    "\n",
    "def _decode(individual):\n",
    "    return list(map(lambda val: Direction(val), individual))\n",
    "\n",
    "def display_chromosome(individual):\n",
    "    return \" \".join(d.name[0] for d in _decode(individual))\n",
    "\n",
    "def compute_chromosome(individual, labyrinth, start, end, debug = False):\n",
    "    directions = _decode(individual) \n",
    "    x, y = start[0], start[1]\n",
    "    result = [(x,y)]\n",
    "    \n",
    "    for i, direction in enumerate(directions):\n",
    "        if direction == Direction.TOP and x-1 >= 0 and grid[(x-1,y)] == FREE_CELL_CONTENT:\n",
    "            x -= 1\n",
    "            result.append((x, y))\n",
    "        elif direction == Direction.RIGHT and y+1 < grid.shape[1] and grid[(x,y+1)] == FREE_CELL_CONTENT:\n",
    "            y += 1\n",
    "            result.append((x, y))\n",
    "        elif direction == Direction.BOTTOM and x+1 < grid.shape[0] and grid[(x+1,y)] == FREE_CELL_CONTENT:\n",
    "            x += 1\n",
    "            result.append((x,y))\n",
    "        elif direction == Direction.LEFT and y-1 >= 0 and grid[(x,y-1)] == FREE_CELL_CONTENT:\n",
    "            y -= 1\n",
    "            result.append((x,y))\n",
    "#         else:\n",
    "#             new_movement = find_better_path((x,y), end)\n",
    "            \n",
    "#             if new_movement == direction:\n",
    "#                 individual[i] = random.randint(0, len(Direction) - 1)\n",
    "#             else:\n",
    "#                 individual[i] = new_movement.value\n",
    "            \n",
    "        if (x,y) == end:\n",
    "            individual = individual[0:i]\n",
    "            break\n",
    "    \n",
    "    return result\n",
    "\n",
    "def find_better_path(position, target):\n",
    "    if difference_x(position, target) > difference_y(position, target):\n",
    "        if position[0] < target[0]:\n",
    "            return Direction.BOTTOM\n",
    "        else :\n",
    "            return Direction.TOP\n",
    "    else:\n",
    "        if position[1] < target[1]:\n",
    "            return Direction.RIGHT\n",
    "        else:\n",
    "            return Direction.LEFT\n",
    "\n",
    "def difference_x(p1, p2):\n",
    "    return abs(p1[0]-p2[0])\n",
    "\n",
    "def difference_y(p1, p2):\n",
    "    return abs(p1[1]-p2[1])\n",
    "\n",
    "def manhattan(p1, p2):\n",
    "    return difference_x(p1, p2)+difference_y(p1, p2)"
   ]
  },
  {
   "cell_type": "markdown",
   "metadata": {},
   "source": [
    "# Deap"
   ]
  },
  {
   "cell_type": "code",
   "execution_count": 9,
   "metadata": {},
   "outputs": [],
   "source": [
    "toolbox = base.Toolbox()"
   ]
  },
  {
   "cell_type": "code",
   "execution_count": 10,
   "metadata": {},
   "outputs": [],
   "source": [
    "def fitness(individual, grid, start_cell, end_cell, chromosome_length):\n",
    "    MALUS_NO_END = 100\n",
    "    FACTOR_LENGTH = 10\n",
    "    \n",
    "    path = compute_chromosome(individual, grid, start_cell, end_cell)\n",
    "    malus = 0\n",
    "    \n",
    "    if not end_cell in path:\n",
    "        malus = MALUS_NO_END\n",
    "    \n",
    "    return (manhattan(end_cell, path[-1]) + len(path)*FACTOR_LENGTH + malus,)\n",
    "\n",
    "\n",
    "toolbox.register(\"fitness\", fitness)\n",
    "creator.create(\"FitnessMin\", base.Fitness, weights=(-1.0,))\n",
    "creator.create(\"Individual\", list, fitness=creator.FitnessMin) \n",
    "\n",
    "toolbox.register(\"mate\", tools.cxOnePoint)\n",
    "toolbox.register(\"mutate\", tools.mutUniformInt, low=0, up=3, indpb=0.1)\n",
    "toolbox.register(\"select\", tools.selBest)\n",
    "\n",
    "toolbox.register(\"init_gene\", random.randint, 0, 3)\n",
    "toolbox.register(\"init_individual\", tools.initRepeat, creator.Individual, toolbox.init_gene, CHROMOSOM_LENGTH)\n",
    "toolbox.register(\"init_population\", tools.initRepeat, list, toolbox.init_individual)"
   ]
  },
  {
   "cell_type": "markdown",
   "metadata": {},
   "source": [
    "## Solve"
   ]
  },
  {
   "cell_type": "code",
   "execution_count": 11,
   "metadata": {},
   "outputs": [],
   "source": [
    "def evaluate_population(population, grid, start_cell, end_cell):\n",
    "    fitnesses = [toolbox.fitness(ind, grid, start_cell, end_cell, CHROMOSOM_LENGTH) for ind in population]\n",
    "    for ind, fit in zip(population, fitnesses):\n",
    "        ind.fitness.values = fit\n",
    "\n",
    "# TODO MAP FILTER POUR OPTI\n",
    "def find_winners(population, grid, start_cell, end_cell):\n",
    "    winners = []\n",
    "    \n",
    "    for individual in population:\n",
    "        path = compute_chromosome(individual, grid, start_cell, end_cell)\n",
    "        if path[-1] == end_cell:\n",
    "            winners.append(individual)\n",
    "    \n",
    "    return winners\n",
    "\n",
    "def change_useless_move(individual):\n",
    "    directions = _decode(individual)\n",
    "    \n",
    "    for i, d in enumerate(directions):\n",
    "        if i+1 < len(directions) and ( \\\n",
    "            d == Direction.TOP and directions[i+1] == Direction.BOTTOM \\\n",
    "            or d == Direction.BOTTOM and directions[i+1] == Direction.TOP \\\n",
    "            or d == Direction.LEFT and directions[i+1] == Direction.RIGHT \\\n",
    "            or d == Direction.RIGHT and directions[i+1] == Direction.LEFT):\n",
    "            \n",
    "            individual[i] = random.randint(0, len(Direction)-1)\n",
    "            \n",
    "def solve_labyrinth(grid, start_cell, end_cell, max_time_s):\n",
    "    N_POPULATION = 300\n",
    "    CROSSOVER_PROBA = 0.1\n",
    "    MUTATE_PROBA = 0.5\n",
    "    \n",
    "    start_time = inter_time = time.time()\n",
    "    population = toolbox.init_population(n = N_POPULATION)\n",
    "\n",
    "    evaluate_population(population, grid, start_cell, end_cell)\n",
    "    solution = None\n",
    "    \n",
    "    # find a stop condition\n",
    "    while inter_time - start_time < max_time_s:\n",
    "        children = toolbox.select(population, len(population))\n",
    "        children = list(map(toolbox.clone, children))\n",
    "\n",
    "        # Apply crossover and mutation on the offspring\n",
    "        for child1, child2 in zip(children[::2], children[1::2]):\n",
    "            if random.random() < CROSSOVER_PROBA:\n",
    "                toolbox.mate(child1, child2) \n",
    "\n",
    "        for mutant in children:\n",
    "            # add a new component\n",
    "            if random.random() < MUTATE_PROBA:\n",
    "                toolbox.mutate(mutant)\n",
    "        \n",
    "        # small optimisation\n",
    "        for child in children:\n",
    "            change_useless_move(child)\n",
    "\n",
    "        evaluate_population(children, grid, start_cell, end_cell)\n",
    "        population = children\n",
    "\n",
    "        # Search for the solution\n",
    "        fitnesses = [ind.fitness.values[0] for ind in population]\n",
    "        min_fit = min(fitnesses)\n",
    "        best = population[fitnesses.index(min_fit)]\n",
    "        \n",
    "        if not solution or best.fitness.values[0] < solution.fitness.values[0]:\n",
    "            solution = best\n",
    "\n",
    "        inter_time = time.time()\n",
    "    \n",
    "    return solution\n"
   ]
  },
  {
   "cell_type": "code",
   "execution_count": 12,
   "metadata": {
    "scrolled": true
   },
   "outputs": [
    {
     "data": {
      "image/png": "[encoded data removed]",
      "text/plain": [
       "<Figure size 288x288 with 1 Axes>"
      ]
     },
     "metadata": {
      "needs_background": "light"
     },
     "output_type": "display_data"
    },
    {
     "data": {
      "image/png": "[encoded data removed]",
      "text/plain": [
       "<Figure size 288x288 with 1 Axes>"
      ]
     },
     "metadata": {
      "needs_background": "light"
     },
     "output_type": "display_data"
    }
   ],
   "source": [
    "solution = solve_labyrinth(grid, start_cell, end_cell, 60)\n",
    "path = compute_chromosome(solution, grid, start_cell, end_cell)\n",
    "display_labyrinth(grid, start_cell, end_cell, path)\n",
    "\n",
    "grid, start_cell, end_cell = load_grid(\"grids/grid10.npy\")\n",
    "solution = solve_labyrinth(grid, start_cell, end_cell, 5)\n",
    "path = compute_chromosome(solution, grid, start_cell, end_cell)\n",
    "display_labyrinth(grid, start_cell, end_cell, path)\n"
   ]
  },
  {
   "cell_type": "code",
   "execution_count": null,
   "metadata": {},
   "outputs": [],
   "source": []
  }
 ],
 "metadata": {
  "kernelspec": {
   "display_name": "Python 3",
   "language": "python",
   "name": "python3"
  },
  "language_info": {
   "codemirror_mode": {
    "name": "ipython",
    "version": 3
   },
   "file_extension": ".py",
   "mimetype": "text/x-python",
   "name": "python",
   "nbconvert_exporter": "python",
   "pygments_lexer": "ipython3",
   "version": "3.6.7"
  }
 },
 "nbformat": 4,
 "nbformat_minor": 2
}
